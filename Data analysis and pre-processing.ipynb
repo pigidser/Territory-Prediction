{
 "cells": [
  {
   "cell_type": "markdown",
   "metadata": {},
   "source": [
    "# Рабочий ноутбук для решения задачи предсказания территории на которой находится торговая точка"
   ]
  },
  {
   "cell_type": "markdown",
   "metadata": {},
   "source": [
    "Данные поступают из двух файлов, которые формируются в существующей системой отчетности. В процессе обработки файлы могут быть объединены по полю “Код торговой точки”.\n",
    "#### Файл Coordinates.xlsx\n",
    "Файл содержит координаты торговых точек. Не все торговые точки имеют координаты. В процессе подготовки данных для обучения модели, точкам без координат будут назначены усредненные координаты соседних точек, которые находятся в том-же населенном пункте, что и точка без координат.\n",
    "#### Файл Report Territory Management.xlsx\n",
    "Данный файл является специальным отчетом, который требуется для работы оператора процесса, а также является входным файлом для последующего расчета. Файл содержит следующую информацию по точкам:\n",
    "- Иерархия дистрибьюторов (Регион - Дистрибьютор - Филиал)\n",
    "- Иерархия сотрудников\n",
    "- Адресный классификатор (пять уровней)\n",
    "- Характеристики точки: Сеть, Тир, Сегмент, Формат и т.п.\n",
    "- Информация о посещении точки\n",
    "- Код филиала на территории которого находится торговая точка (этот код необходимо предсказать, если отсутствует)"
   ]
  },
  {
   "cell_type": "code",
   "execution_count": 1,
   "metadata": {},
   "outputs": [],
   "source": [
    "import pandas as pd\n",
    "import numpy as np\n",
    "import matplotlib as mpl\n",
    "import matplotlib.pyplot as plt\n",
    "from sklearn.model_selection import train_test_split\n",
    "from sklearn.pipeline import Pipeline\n",
    "from sklearn.impute import SimpleImputer\n",
    "from sklearn.preprocessing import OneHotEncoder\n",
    "from sklearn.compose import ColumnTransformer\n",
    "from sklearn.ensemble import RandomForestClassifier\n",
    "from sklearn.linear_model import LogisticRegression\n",
    "from sklearn.metrics import accuracy_score, f1_score\n",
    "from sklearn.metrics import balanced_accuracy_score, roc_auc_score\n",
    "import openpyxl\n",
    "from openpyxl.utils.dataframe import dataframe_to_rows\n",
    "from openpyxl.styles import PatternFill\n",
    "\n",
    "coord_file = 'Coordinates.xlsx'\n",
    "report_file = 'Report Territory Management.xlsx'"
   ]
  },
  {
   "cell_type": "markdown",
   "metadata": {},
   "source": [
    "## Анализ и подготовка данных"
   ]
  },
  {
   "cell_type": "markdown",
   "metadata": {},
   "source": [
    "Посмотрим на файл с координатами точек. Видим, что в файле содержится 435 тысяч записей без пустых значений."
   ]
  },
  {
   "cell_type": "code",
   "execution_count": 2,
   "metadata": {},
   "outputs": [
    {
     "name": "stdout",
     "output_type": "stream",
     "text": [
      "<class 'pandas.core.frame.DataFrame'>\n",
      "RangeIndex: 435419 entries, 0 to 435418\n",
      "Data columns (total 3 columns):\n",
      "SWE_Store_Key    435419 non-null int64\n",
      "Latitude         435419 non-null float64\n",
      "Longitude        435419 non-null float64\n",
      "dtypes: float64(2), int64(1)\n",
      "memory usage: 10.0 MB\n"
     ]
    }
   ],
   "source": [
    "df_coor = pd.read_excel(coord_file)\n",
    "df_coor.columns = ['SWE_Store_Key','Latitude','Longitude']\n",
    "df_coor.info()"
   ]
  },
  {
   "cell_type": "markdown",
   "metadata": {},
   "source": [
    "Но что с валидностью значений? Необходимо учитывать, что допустимые значения широты находятся в диапазоне от -90 до +90, а значения долготы - в диапазоне от -180 до +180. Откинем недопустимые значения. Как видим, их не много."
   ]
  },
  {
   "cell_type": "code",
   "execution_count": 3,
   "metadata": {},
   "outputs": [
    {
     "data": {
      "text/plain": [
       "435411"
      ]
     },
     "execution_count": 3,
     "metadata": {},
     "output_type": "execute_result"
    }
   ],
   "source": [
    "df_coor = df_coor[ ( (df_coor['Latitude']>=-90) & (df_coor['Latitude']<=90) ) ]\n",
    "df_coor = df_coor[ ( (df_coor['Longitude']>=-180) & (df_coor['Longitude']<=180) )]\n",
    "df_coor.shape[0]"
   ]
  },
  {
   "cell_type": "markdown",
   "metadata": {},
   "source": [
    "Беря во внимание информацию из Википедии о крайних точках Российской Федерации (https://ru.wikipedia.org/wiki/%D0%9A%D1%80%D0%B0%D0%B9%D0%BD%D0%B8%D0%B5_%D1%82%D0%BE%D1%87%D0%BA%D0%B8_%D0%A0%D0%BE%D1%81%D1%81%D0%B8%D0%B8), отбросим точки из других стран (берем с запасом). Осталось 396 тысяч точек с координатами"
   ]
  },
  {
   "cell_type": "code",
   "execution_count": 4,
   "metadata": {},
   "outputs": [
    {
     "data": {
      "text/plain": [
       "396144"
      ]
     },
     "execution_count": 4,
     "metadata": {},
     "output_type": "execute_result"
    }
   ],
   "source": [
    "df_coor = df_coor[ ( (df_coor['Latitude']>40) & (df_coor['Latitude']<82) ) ]\n",
    "df_coor = df_coor[ ( ( (df_coor['Longitude']>=10) & (df_coor['Longitude']<180) ) | \\\n",
    "    ( (df_coor['Longitude']>=-180) & (df_coor['Longitude']<-160) ) ) ]\n",
    "df_coor.shape[0]"
   ]
  },
  {
   "cell_type": "markdown",
   "metadata": {},
   "source": [
    "Посмотрим на распределение значений на графике типа boxplot. Получается медианное значение широты 55, а для долготы 50, с очевидно значительно меньшим количеством точек на крайних границах, которые не являются выбросами, в данном случае."
   ]
  },
  {
   "cell_type": "code",
   "execution_count": 5,
   "metadata": {},
   "outputs": [
    {
     "data": {
      "text/plain": [
       "Text(0.5, 1.0, 'Долгота')"
      ]
     },
     "execution_count": 5,
     "metadata": {},
     "output_type": "execute_result"
    },
    {
     "data": {
      "image/png": "[encoded data removed]",
      "text/plain": [
       "<Figure size 1080x432 with 2 Axes>"
      ]
     },
     "metadata": {
      "needs_background": "light"
     },
     "output_type": "display_data"
    }
   ],
   "source": [
    "fig, axes = plt.subplots(1,2, figsize=(15,6))\n",
    "axes[0].boxplot(df_coor['Latitude'].values)\n",
    "axes[0].set_title('Широта')\n",
    "\n",
    "axes[1].boxplot(df_coor['Longitude'].values, vert=False)\n",
    "axes[1].set_title('Долгота')"
   ]
  },
  {
   "cell_type": "markdown",
   "metadata": {},
   "source": [
    "Теперь перейдем к рассмотрению файла с основной информацией по торговым точкам. Как видно, информация по точке, полученная из справочников с основными мастер-данными, является полной (иерархия дистрибьюторов, иерархия сотрудников, информация по сети и точке, а также адресный классификатор), то есть признаки не содержат пустых значений."
   ]
  },
  {
   "cell_type": "code",
   "execution_count": 6,
   "metadata": {},
   "outputs": [],
   "source": [
    "df_terr = pd.read_excel(report_file,skiprows=1)\n",
    "\n",
    "df_terr.columns=['Region','Distrib','Office','FFDSL','TSE_MTDE','Level_Torg_Region1','Level_Torg_Region2', \\\n",
    "'Filial_Name','Filial_Ship_To','Chain_Type','Chain_Name','Chain_Id','Chain_Chain_Tier_MWC','Chain_Chain_Sub_Tier_MWC', \\\n",
    "'SWE_Store_Key','Store_Status','Outlet_Name','Channel_Name_2018','Outlet_Type_2018','Trade_Structure','From_Dc', \\\n",
    "'Segment_MWC_Segment_Name','Cluster_MWC','Kladr_level_1','Kladr_level_2','Kladr_level_3','Kladr_level_4','Kladr_level_5', \\\n",
    "'LSV_WWY','LSV_CHOCO','LSV_MWC','Covering_Outlet_id','General_Duplicate','Ship_To_Visited','Filial_Visited', \\\n",
    "'Ship_to_Name_TO_BE','Region_loaded_RSS','Ship_to_TO_BE_Name_loaded_RSS','SHIP_TO_RSS', \\\n",
    "'Ship_to_Code_TO_BE','DC','Changed','Change_Period']"
   ]
  },
  {
   "cell_type": "code",
   "execution_count": 7,
   "metadata": {},
   "outputs": [
    {
     "name": "stdout",
     "output_type": "stream",
     "text": [
      "<class 'pandas.core.frame.DataFrame'>\n",
      "RangeIndex: 248552 entries, 0 to 248551\n",
      "Data columns (total 43 columns):\n",
      "Region                           248552 non-null object\n",
      "Distrib                          248552 non-null object\n",
      "Office                           248552 non-null object\n",
      "FFDSL                            248552 non-null object\n",
      "TSE_MTDE                         248552 non-null object\n",
      "Level_Torg_Region1               248552 non-null object\n",
      "Level_Torg_Region2               248552 non-null object\n",
      "Filial_Name                      248552 non-null object\n",
      "Filial_Ship_To                   248552 non-null object\n",
      "Chain_Type                       248552 non-null object\n",
      "Chain_Name                       248552 non-null object\n",
      "Chain_Id                         248552 non-null int64\n",
      "Chain_Chain_Tier_MWC             248552 non-null object\n",
      "Chain_Chain_Sub_Tier_MWC         248552 non-null object\n",
      "SWE_Store_Key                    248552 non-null int64\n",
      "Store_Status                     248552 non-null object\n",
      "Outlet_Name                      248552 non-null object\n",
      "Channel_Name_2018                248552 non-null object\n",
      "Outlet_Type_2018                 248552 non-null object\n",
      "Trade_Structure                  238647 non-null object\n",
      "From_Dc                          248552 non-null bool\n",
      "Segment_MWC_Segment_Name         248552 non-null object\n",
      "Cluster_MWC                      248552 non-null object\n",
      "Kladr_level_1                    248552 non-null object\n",
      "Kladr_level_2                    248552 non-null object\n",
      "Kladr_level_3                    248552 non-null object\n",
      "Kladr_level_4                    248552 non-null object\n",
      "Kladr_level_5                    248552 non-null object\n",
      "LSV_WWY                          220446 non-null float64\n",
      "LSV_CHOCO                        224094 non-null float64\n",
      "LSV_MWC                          248552 non-null float64\n",
      "Covering_Outlet_id               52395 non-null object\n",
      "General_Duplicate                52380 non-null object\n",
      "Ship_To_Visited                  221872 non-null float64\n",
      "Filial_Visited                   221873 non-null object\n",
      "Ship_to_Name_TO_BE               0 non-null float64\n",
      "Region_loaded_RSS                206438 non-null object\n",
      "Ship_to_TO_BE_Name_loaded_RSS    206438 non-null object\n",
      "SHIP_TO_RSS                      206438 non-null object\n",
      "Ship_to_Code_TO_BE               0 non-null float64\n",
      "DC                               0 non-null float64\n",
      "Changed                          0 non-null float64\n",
      "Change_Period                    0 non-null float64\n",
      "dtypes: bool(1), float64(9), int64(2), object(31)\n",
      "memory usage: 79.9+ MB\n"
     ]
    }
   ],
   "source": [
    "df_terr.info()"
   ]
  },
  {
   "cell_type": "markdown",
   "metadata": {},
   "source": [
    "Теперь удалим поля с названиями, для которых имеются соответствующие коды, а также поля без значений. Также нужно убрать информацию о продажах и визитах в точку (LSV, _Visited), так как это информация о последнем визите одного из дистрибьюторов в точку (а нам известно, что точку могут посещать несколько дистрибьюторов)."
   ]
  },
  {
   "cell_type": "code",
   "execution_count": 8,
   "metadata": {},
   "outputs": [],
   "source": [
    "df_terr = df_terr[['SWE_Store_Key','Region','Distrib','Office','FFDSL','TSE_MTDE','Level_Torg_Region1','Level_Torg_Region2',\n",
    "'Filial_Name','Filial_Ship_To','Chain_Type','Chain_Id','Chain_Chain_Tier_MWC','Chain_Chain_Sub_Tier_MWC',\n",
    "'Channel_Name_2018','Outlet_Type_2018','Trade_Structure','From_Dc','Segment_MWC_Segment_Name','Cluster_MWC',\n",
    "'Covering_Outlet_id','General_Duplicate','SHIP_TO_RSS','Kladr_level_1','Kladr_level_2','Kladr_level_3','Kladr_level_4','Kladr_level_5']]"
   ]
  },
  {
   "cell_type": "markdown",
   "metadata": {},
   "source": [
    "Также от бизнеса получена информация, что в данных содержится информация о точках-дубликатах и определен способ оставить только основные (актуальные) точки"
   ]
  },
  {
   "cell_type": "code",
   "execution_count": 9,
   "metadata": {},
   "outputs": [],
   "source": [
    "df_terr = df_terr[df_terr['General_Duplicate']!='Дубликат']\n",
    "df_terr.drop(['Covering_Outlet_id','General_Duplicate'],axis=1,inplace=True)"
   ]
  },
  {
   "cell_type": "code",
   "execution_count": 10,
   "metadata": {},
   "outputs": [
    {
     "name": "stdout",
     "output_type": "stream",
     "text": [
      "<class 'pandas.core.frame.DataFrame'>\n",
      "Int64Index: 221703 entries, 0 to 248551\n",
      "Data columns (total 26 columns):\n",
      "SWE_Store_Key               221703 non-null int64\n",
      "Region                      221703 non-null object\n",
      "Distrib                     221703 non-null object\n",
      "Office                      221703 non-null object\n",
      "FFDSL                       221703 non-null object\n",
      "TSE_MTDE                    221703 non-null object\n",
      "Level_Torg_Region1          221703 non-null object\n",
      "Level_Torg_Region2          221703 non-null object\n",
      "Filial_Name                 221703 non-null object\n",
      "Filial_Ship_To              221703 non-null object\n",
      "Chain_Type                  221703 non-null object\n",
      "Chain_Id                    221703 non-null int64\n",
      "Chain_Chain_Tier_MWC        221703 non-null object\n",
      "Chain_Chain_Sub_Tier_MWC    221703 non-null object\n",
      "Channel_Name_2018           221703 non-null object\n",
      "Outlet_Type_2018            221703 non-null object\n",
      "Trade_Structure             221325 non-null object\n",
      "From_Dc                     221703 non-null bool\n",
      "Segment_MWC_Segment_Name    221703 non-null object\n",
      "Cluster_MWC                 221703 non-null object\n",
      "SHIP_TO_RSS                 206188 non-null object\n",
      "Kladr_level_1               221703 non-null object\n",
      "Kladr_level_2               221703 non-null object\n",
      "Kladr_level_3               221703 non-null object\n",
      "Kladr_level_4               221703 non-null object\n",
      "Kladr_level_5               221703 non-null object\n",
      "dtypes: bool(1), int64(2), object(23)\n",
      "memory usage: 44.2+ MB\n"
     ]
    }
   ],
   "source": [
    "df_terr.info()"
   ]
  },
  {
   "cell_type": "markdown",
   "metadata": {},
   "source": [
    "По условиям задачи необходимо предсказать значение SHIP_TO_RSS (это примерно 10% от общего числа точек в отчете). Таким образом остался только один признак с пустыми значениями, который заполним значением по-умолчанию."
   ]
  },
  {
   "cell_type": "code",
   "execution_count": 11,
   "metadata": {},
   "outputs": [],
   "source": [
    "df_terr['Trade_Structure'].fillna('Не известно',inplace=True)"
   ]
  },
  {
   "cell_type": "markdown",
   "metadata": {},
   "source": [
    "Посмотрим на признак SHIP_TO_RSS, смысл которого - это код адреса доставки (должен быть целым числом определенной длины)."
   ]
  },
  {
   "cell_type": "code",
   "execution_count": 12,
   "metadata": {},
   "outputs": [
    {
     "name": "stderr",
     "output_type": "stream",
     "text": [
      "C:\\Users\\pigidser\\AppData\\Roaming\\Python\\Python37\\site-packages\\ipykernel_launcher.py:5: SettingWithCopyWarning: \n",
      "A value is trying to be set on a copy of a slice from a DataFrame.\n",
      "Try using .loc[row_indexer,col_indexer] = value instead\n",
      "\n",
      "See the caveats in the documentation: http://pandas.pydata.org/pandas-docs/stable/user_guide/indexing.html#returning-a-view-versus-a-copy\n",
      "  \"\"\"\n"
     ]
    }
   ],
   "source": [
    "def get_length(val):\n",
    "    return len(str(val).strip())\n",
    "ship = df_terr[['SHIP_TO_RSS','From_Dc']]\n",
    "ship.columns = ['SHIP_TO_RSS','LENGTH']\n",
    "ship['LENGTH'] = ship['SHIP_TO_RSS'].apply(get_length)"
   ]
  },
  {
   "cell_type": "code",
   "execution_count": 13,
   "metadata": {},
   "outputs": [
    {
     "data": {
      "text/plain": [
       "LENGTH\n",
       "3                                 NaN\n",
       "8                            10340352\n",
       "19                10342443 , 10430024\n",
       "30     10262975 , 10428588 , 10432783\n",
       "Name: SHIP_TO_RSS, dtype: object"
      ]
     },
     "execution_count": 13,
     "metadata": {},
     "output_type": "execute_result"
    }
   ],
   "source": [
    "ship.groupby('LENGTH').SHIP_TO_RSS.first()"
   ]
  },
  {
   "cell_type": "markdown",
   "metadata": {},
   "source": [
    "Задан дополнительный вопрос к бизнесу, почему для некоторых точек идёт два или три кода доставки, и получен ответ, что нужно использовать только первый код."
   ]
  },
  {
   "cell_type": "code",
   "execution_count": 14,
   "metadata": {},
   "outputs": [],
   "source": [
    "df_terr.loc[~df_terr['SHIP_TO_RSS'].isna(),'SHIP_TO_RSS'] = df_terr.loc[~df_terr['SHIP_TO_RSS'].isna()]['SHIP_TO_RSS'].apply(lambda x: int(x[:9]))"
   ]
  },
  {
   "cell_type": "markdown",
   "metadata": {},
   "source": [
    "Объединим два набора данных."
   ]
  },
  {
   "cell_type": "code",
   "execution_count": 15,
   "metadata": {},
   "outputs": [],
   "source": [
    "df = pd.merge(df_terr, df_coor, on='SWE_Store_Key',how='left')\n",
    "del df_terr\n",
    "del df_coor"
   ]
  },
  {
   "cell_type": "markdown",
   "metadata": {},
   "source": [
    "Поскольку для каждой точки известен адрес, можно воспользоваться этой информацией, чтобы приблизительно восстановить координаты для точек с отсутствующими координатами. Для этого с бизнесом согласован алгоритм, при котором точкам без координат будут назначены усредненные координаты соседних точек, которые находятся в том-же населенном пункте, что и точка без координат. В случае отсутствия соседей в населенном пункте будет использоваться более высокий уровень адресного классификатора. После этого можно избавиться от адресного классификатора."
   ]
  },
  {
   "cell_type": "code",
   "execution_count": 16,
   "metadata": {},
   "outputs": [],
   "source": [
    "df['Latitude'].replace(0, np.NaN, inplace=True)\n",
    "df['Longitude'].replace(0, np.NaN, inplace=True)\n",
    "df['isCoord'] = ~( (df['Latitude'].isna()) | (df['Longitude'].isna()) )\n",
    "\n",
    "kladr_lat_grouped = df[df['isCoord']==1].groupby(['Kladr_level_1','Kladr_level_2','Kladr_level_3','Kladr_level_4']).Latitude.mean()\n",
    "kladr_lon_grouped = df[df['isCoord']==1].groupby(['Kladr_level_1','Kladr_level_2','Kladr_level_3','Kladr_level_4']).Longitude.mean()\n",
    "\n",
    "def get_avg_latitude(row):\n",
    "    try: return kladr_lat_grouped[row['Kladr_level_1']][row['Kladr_level_2']][row['Kladr_level_3']][row['Kladr_level_4']]\n",
    "    except:\n",
    "        try: return kladr_lat_grouped[row['Kladr_level_1']][row['Kladr_level_2']][row['Kladr_level_3']].mean()\n",
    "        except:\n",
    "            try: return kladr_lat_grouped[row['Kladr_level_1']][row['Kladr_level_2']].mean()\n",
    "            except:\n",
    "                try: return kladr_lat_grouped[row['Kladr_level_1']].mean()\n",
    "                except:\n",
    "                    return 0\n",
    "\n",
    "def get_avg_longitude(row):\n",
    "    try: return kladr_lon_grouped[row['Kladr_level_1']][row['Kladr_level_2']][row['Kladr_level_3']][row['Kladr_level_4']]\n",
    "    except:\n",
    "        try: return kladr_lon_grouped[row['Kladr_level_1']][row['Kladr_level_2']][row['Kladr_level_3']].mean()\n",
    "        except:\n",
    "            try: return kladr_lon_grouped[row['Kladr_level_1']][row['Kladr_level_2']].mean()\n",
    "            except:\n",
    "                try: return kladr_lon_grouped[row['Kladr_level_1']].mean()\n",
    "                except:\n",
    "                    return 0\n",
    "\n",
    "df.loc[df['isCoord']==0,'Latitude'] = \\\n",
    "    df.loc[df['isCoord']==0][['SWE_Store_Key','Kladr_level_1','Kladr_level_2','Kladr_level_3','Kladr_level_4']].apply( \\\n",
    "        get_avg_latitude,axis=1)\n",
    "\n",
    "df.loc[df['isCoord']==0,'Longitude'] = \\\n",
    "    df.loc[df['isCoord']==0][['SWE_Store_Key','Kladr_level_1','Kladr_level_2','Kladr_level_3','Kladr_level_4']].apply( \\\n",
    "        get_avg_longitude,axis=1)"
   ]
  },
  {
   "cell_type": "code",
   "execution_count": 17,
   "metadata": {},
   "outputs": [],
   "source": [
    "df.drop(['Kladr_level_1','Kladr_level_2','Kladr_level_3','Kladr_level_4','Kladr_level_5'],axis=1,inplace=True)"
   ]
  },
  {
   "cell_type": "code",
   "execution_count": 18,
   "metadata": {},
   "outputs": [
    {
     "name": "stdout",
     "output_type": "stream",
     "text": [
      "<class 'pandas.core.frame.DataFrame'>\n",
      "Int64Index: 221703 entries, 0 to 221702\n",
      "Data columns (total 24 columns):\n",
      "SWE_Store_Key               221703 non-null int64\n",
      "Region                      221703 non-null object\n",
      "Distrib                     221703 non-null object\n",
      "Office                      221703 non-null object\n",
      "FFDSL                       221703 non-null object\n",
      "TSE_MTDE                    221703 non-null object\n",
      "Level_Torg_Region1          221703 non-null object\n",
      "Level_Torg_Region2          221703 non-null object\n",
      "Filial_Name                 221703 non-null object\n",
      "Filial_Ship_To              221703 non-null object\n",
      "Chain_Type                  221703 non-null object\n",
      "Chain_Id                    221703 non-null int64\n",
      "Chain_Chain_Tier_MWC        221703 non-null object\n",
      "Chain_Chain_Sub_Tier_MWC    221703 non-null object\n",
      "Channel_Name_2018           221703 non-null object\n",
      "Outlet_Type_2018            221703 non-null object\n",
      "Trade_Structure             221703 non-null object\n",
      "From_Dc                     221703 non-null bool\n",
      "Segment_MWC_Segment_Name    221703 non-null object\n",
      "Cluster_MWC                 221703 non-null object\n",
      "SHIP_TO_RSS                 206188 non-null object\n",
      "Latitude                    221703 non-null float64\n",
      "Longitude                   221703 non-null float64\n",
      "isCoord                     221703 non-null bool\n",
      "dtypes: bool(2), float64(2), int64(2), object(18)\n",
      "memory usage: 39.3+ MB\n"
     ]
    }
   ],
   "source": [
    "df.info()"
   ]
  },
  {
   "cell_type": "markdown",
   "metadata": {},
   "source": [
    "Почти подошли к построению модели. Поскольку искомый признак SHIP_TO_RSS это не непрерывная величина, а возможные фиксированные значения, то наша задача сводится к задаче классификации. То есть необходимо обучить модель показывать три наиболее вероятных кода SHIP_TO_RSS по известным признакам. Что здесь может пойти не так? Например, если в данных не будет хватать данных для успешного обучения по какому-то SHIP_TO_RSS. Давайте поищем такие случаи, при которых количество кодов для обучения меньше 15. Мы будем сообщать пользователю, о такой проблеме, а не будем пытаться угадать. Таких кодов всего 9."
   ]
  },
  {
   "cell_type": "code",
   "execution_count": 19,
   "metadata": {},
   "outputs": [
    {
     "data": {
      "text/html": [
       "<div>\n",
       "<style scoped>\n",
       "    .dataframe tbody tr th:only-of-type {\n",
       "        vertical-align: middle;\n",
       "    }\n",
       "\n",
       "    .dataframe tbody tr th {\n",
       "        vertical-align: top;\n",
       "    }\n",
       "\n",
       "    .dataframe thead th {\n",
       "        text-align: right;\n",
       "    }\n",
       "</style>\n",
       "<table border=\"1\" class=\"dataframe\">\n",
       "  <thead>\n",
       "    <tr style=\"text-align: right;\">\n",
       "      <th></th>\n",
       "      <th>SHIP_TO_RSS</th>\n",
       "      <th>COUNTS</th>\n",
       "    </tr>\n",
       "  </thead>\n",
       "  <tbody>\n",
       "    <tr>\n",
       "      <th>66</th>\n",
       "      <td>10441510</td>\n",
       "      <td>9</td>\n",
       "    </tr>\n",
       "    <tr>\n",
       "      <th>67</th>\n",
       "      <td>10441560</td>\n",
       "      <td>7</td>\n",
       "    </tr>\n",
       "    <tr>\n",
       "      <th>69</th>\n",
       "      <td>10441605</td>\n",
       "      <td>3</td>\n",
       "    </tr>\n",
       "    <tr>\n",
       "      <th>70</th>\n",
       "      <td>10442916</td>\n",
       "      <td>2</td>\n",
       "    </tr>\n",
       "    <tr>\n",
       "      <th>71</th>\n",
       "      <td>10443010</td>\n",
       "      <td>1</td>\n",
       "    </tr>\n",
       "    <tr>\n",
       "      <th>74</th>\n",
       "      <td>10443103</td>\n",
       "      <td>7</td>\n",
       "    </tr>\n",
       "    <tr>\n",
       "      <th>75</th>\n",
       "      <td>10443104</td>\n",
       "      <td>13</td>\n",
       "    </tr>\n",
       "    <tr>\n",
       "      <th>77</th>\n",
       "      <td>10445233</td>\n",
       "      <td>5</td>\n",
       "    </tr>\n",
       "    <tr>\n",
       "      <th>81</th>\n",
       "      <td>10446874</td>\n",
       "      <td>5</td>\n",
       "    </tr>\n",
       "  </tbody>\n",
       "</table>\n",
       "</div>"
      ],
      "text/plain": [
       "    SHIP_TO_RSS  COUNTS\n",
       "66     10441510       9\n",
       "67     10441560       7\n",
       "69     10441605       3\n",
       "70     10442916       2\n",
       "71     10443010       1\n",
       "74     10443103       7\n",
       "75     10443104      13\n",
       "77     10445233       5\n",
       "81     10446874       5"
      ]
     },
     "execution_count": 19,
     "metadata": {},
     "output_type": "execute_result"
    }
   ],
   "source": [
    "ship_counts = df[~df['SHIP_TO_RSS'].isna()].groupby('SHIP_TO_RSS').SWE_Store_Key.count().to_frame()\n",
    "ship_counts.reset_index(inplace=True)\n",
    "ship_counts.columns = ['SHIP_TO_RSS','COUNTS']\n",
    "ship_counts['SHIP_TO_RSS'] = ship_counts['SHIP_TO_RSS'].astype(int)\n",
    "ship_counts[ship_counts['COUNTS']<15]"
   ]
  },
  {
   "cell_type": "markdown",
   "metadata": {},
   "source": [
    "В целом выборка данных не является сбалансированной, на что нужно обратить внимание."
   ]
  },
  {
   "cell_type": "code",
   "execution_count": 20,
   "metadata": {},
   "outputs": [
    {
     "data": {
      "text/plain": [
       "<matplotlib.axes._subplots.AxesSubplot at 0x214cec5e788>"
      ]
     },
     "execution_count": 20,
     "metadata": {},
     "output_type": "execute_result"
    },
    {
     "data": {
      "image/png": "[encoded data removed]",
      "text/plain": [
       "<Figure size 432x288 with 1 Axes>"
      ]
     },
     "metadata": {
      "needs_background": "light"
     },
     "output_type": "display_data"
    }
   ],
   "source": [
    "ship_counts['COUNTS'].plot(kind='hist',bins=50)"
   ]
  },
  {
   "cell_type": "markdown",
   "metadata": {},
   "source": [
    "Как мы уже видели, все признаки, кроме двух (код сети и признак отгрузки с распределительного центра) являются категориальными. Посмотрим на эти признаки поближе, с учетом того, что для многих признаков одно из значений идет !ERR, которое выгружается из системы отчетности и означает, что значения нет."
   ]
  },
  {
   "cell_type": "code",
   "execution_count": 21,
   "metadata": {},
   "outputs": [
    {
     "data": {
      "text/html": [
       "<div>\n",
       "<style scoped>\n",
       "    .dataframe tbody tr th:only-of-type {\n",
       "        vertical-align: middle;\n",
       "    }\n",
       "\n",
       "    .dataframe tbody tr th {\n",
       "        vertical-align: top;\n",
       "    }\n",
       "\n",
       "    .dataframe thead th {\n",
       "        text-align: right;\n",
       "    }\n",
       "</style>\n",
       "<table border=\"1\" class=\"dataframe\">\n",
       "  <thead>\n",
       "    <tr style=\"text-align: right;\">\n",
       "      <th></th>\n",
       "      <th>column</th>\n",
       "      <th>values</th>\n",
       "      <th>values_count</th>\n",
       "      <th>num_ERR</th>\n",
       "      <th>pct_ERR</th>\n",
       "    </tr>\n",
       "  </thead>\n",
       "  <tbody>\n",
       "    <tr>\n",
       "      <th>0</th>\n",
       "      <td>Region</td>\n",
       "      <td>[Siberia, North-West, !ERR, Moscow, Ural, Volg...</td>\n",
       "      <td>8</td>\n",
       "      <td>20071</td>\n",
       "      <td>9.1</td>\n",
       "    </tr>\n",
       "    <tr>\n",
       "      <th>0</th>\n",
       "      <td>Distrib</td>\n",
       "      <td>[ООО Гермес, ЗАО Денди, SF Мегаполис, !ERR, ОО...</td>\n",
       "      <td>62</td>\n",
       "      <td>20018</td>\n",
       "      <td>9.0</td>\n",
       "    </tr>\n",
       "    <tr>\n",
       "      <th>0</th>\n",
       "      <td>Office</td>\n",
       "      <td>[MWC ООО Гермес (Новокузнецк), MWC Денди ЗАО, ...</td>\n",
       "      <td>168</td>\n",
       "      <td>20018</td>\n",
       "      <td>9.0</td>\n",
       "    </tr>\n",
       "    <tr>\n",
       "      <th>0</th>\n",
       "      <td>FFDSL</td>\n",
       "      <td>[MWC FFDL Kuzbass (Vetrova Marina), MWC FFDL S...</td>\n",
       "      <td>39</td>\n",
       "      <td>4499</td>\n",
       "      <td>2.0</td>\n",
       "    </tr>\n",
       "    <tr>\n",
       "      <th>0</th>\n",
       "      <td>TSE_MTDE</td>\n",
       "      <td>[MWC TSE Novokuznetsk (Sandler Kseniya), MWC T...</td>\n",
       "      <td>359</td>\n",
       "      <td>4499</td>\n",
       "      <td>2.0</td>\n",
       "    </tr>\n",
       "    <tr>\n",
       "      <th>0</th>\n",
       "      <td>Level_Torg_Region1</td>\n",
       "      <td>[TL MWC: Север Кузбасса (Мокроусов Илья), TL: ...</td>\n",
       "      <td>521</td>\n",
       "      <td>20018</td>\n",
       "      <td>9.0</td>\n",
       "    </tr>\n",
       "    <tr>\n",
       "      <th>0</th>\n",
       "      <td>Level_Torg_Region2</td>\n",
       "      <td>[Агент МарсРигли-08 (Киселевск-2)(Погребных А....</td>\n",
       "      <td>2529</td>\n",
       "      <td>20018</td>\n",
       "      <td>9.0</td>\n",
       "    </tr>\n",
       "    <tr>\n",
       "      <th>0</th>\n",
       "      <td>Filial_Name</td>\n",
       "      <td>[MWC ООО Гермес (Новокузнецк), MWC Денди ЗАО, ...</td>\n",
       "      <td>106</td>\n",
       "      <td>20019</td>\n",
       "      <td>9.0</td>\n",
       "    </tr>\n",
       "    <tr>\n",
       "      <th>0</th>\n",
       "      <td>Filial_Ship_To</td>\n",
       "      <td>[10340352, 10407751, 10407053, !ERR, 10399270,...</td>\n",
       "      <td>97</td>\n",
       "      <td>21163</td>\n",
       "      <td>9.5</td>\n",
       "    </tr>\n",
       "    <tr>\n",
       "      <th>0</th>\n",
       "      <td>Chain_Type</td>\n",
       "      <td>[Без сетей, Локальная, Региональная, Интернаци...</td>\n",
       "      <td>5</td>\n",
       "      <td>0</td>\n",
       "      <td>0.0</td>\n",
       "    </tr>\n",
       "    <tr>\n",
       "      <th>0</th>\n",
       "      <td>Chain_Chain_Tier_MWC</td>\n",
       "      <td>[Other, Tier 4, Tier 3, Tier 2, Tier 5]</td>\n",
       "      <td>5</td>\n",
       "      <td>0</td>\n",
       "      <td>0.0</td>\n",
       "    </tr>\n",
       "    <tr>\n",
       "      <th>0</th>\n",
       "      <td>Chain_Chain_Sub_Tier_MWC</td>\n",
       "      <td>[Other, 69, 34, 84, 5, 12, 113, 80, 70, 11, 19...</td>\n",
       "      <td>208</td>\n",
       "      <td>0</td>\n",
       "      <td>0.0</td>\n",
       "    </tr>\n",
       "    <tr>\n",
       "      <th>0</th>\n",
       "      <td>Channel_Name_2018</td>\n",
       "      <td>[Traditional Independent Trade, Modern Grocery...</td>\n",
       "      <td>7</td>\n",
       "      <td>21</td>\n",
       "      <td>0.0</td>\n",
       "    </tr>\n",
       "    <tr>\n",
       "      <th>0</th>\n",
       "      <td>Outlet_Type_2018</td>\n",
       "      <td>[BTC, Small minimarket 0-100m, Impulse (Kiosk)...</td>\n",
       "      <td>25</td>\n",
       "      <td>21</td>\n",
       "      <td>0.0</td>\n",
       "    </tr>\n",
       "    <tr>\n",
       "      <th>0</th>\n",
       "      <td>Trade_Structure</td>\n",
       "      <td>[TT, Other MT, TOP200, WHS, Не известно]</td>\n",
       "      <td>5</td>\n",
       "      <td>0</td>\n",
       "      <td>0.0</td>\n",
       "    </tr>\n",
       "    <tr>\n",
       "      <th>0</th>\n",
       "      <td>Segment_MWC_Segment_Name</td>\n",
       "      <td>[C1, C0, B0, C3, C2, B2, A0, B1, B3, A1, A2, A...</td>\n",
       "      <td>14</td>\n",
       "      <td>481</td>\n",
       "      <td>0.2</td>\n",
       "    </tr>\n",
       "    <tr>\n",
       "      <th>0</th>\n",
       "      <td>Cluster_MWC</td>\n",
       "      <td>[Cluster 2, Cluster 3, Cluster 1, !ERR, Cluste...</td>\n",
       "      <td>5</td>\n",
       "      <td>80</td>\n",
       "      <td>0.0</td>\n",
       "    </tr>\n",
       "    <tr>\n",
       "      <th>0</th>\n",
       "      <td>SHIP_TO_RSS</td>\n",
       "      <td>[10340352, 10407751, nan, 10399270, 10428588, ...</td>\n",
       "      <td>83</td>\n",
       "      <td>0</td>\n",
       "      <td>0.0</td>\n",
       "    </tr>\n",
       "  </tbody>\n",
       "</table>\n",
       "</div>"
      ],
      "text/plain": [
       "                     column  \\\n",
       "0                    Region   \n",
       "0                   Distrib   \n",
       "0                    Office   \n",
       "0                     FFDSL   \n",
       "0                  TSE_MTDE   \n",
       "0        Level_Torg_Region1   \n",
       "0        Level_Torg_Region2   \n",
       "0               Filial_Name   \n",
       "0            Filial_Ship_To   \n",
       "0                Chain_Type   \n",
       "0      Chain_Chain_Tier_MWC   \n",
       "0  Chain_Chain_Sub_Tier_MWC   \n",
       "0         Channel_Name_2018   \n",
       "0          Outlet_Type_2018   \n",
       "0           Trade_Structure   \n",
       "0  Segment_MWC_Segment_Name   \n",
       "0               Cluster_MWC   \n",
       "0               SHIP_TO_RSS   \n",
       "\n",
       "                                              values values_count num_ERR  \\\n",
       "0  [Siberia, North-West, !ERR, Moscow, Ural, Volg...            8   20071   \n",
       "0  [ООО Гермес, ЗАО Денди, SF Мегаполис, !ERR, ОО...           62   20018   \n",
       "0  [MWC ООО Гермес (Новокузнецк), MWC Денди ЗАО, ...          168   20018   \n",
       "0  [MWC FFDL Kuzbass (Vetrova Marina), MWC FFDL S...           39    4499   \n",
       "0  [MWC TSE Novokuznetsk (Sandler Kseniya), MWC T...          359    4499   \n",
       "0  [TL MWC: Север Кузбасса (Мокроусов Илья), TL: ...          521   20018   \n",
       "0  [Агент МарсРигли-08 (Киселевск-2)(Погребных А....         2529   20018   \n",
       "0  [MWC ООО Гермес (Новокузнецк), MWC Денди ЗАО, ...          106   20019   \n",
       "0  [10340352, 10407751, 10407053, !ERR, 10399270,...           97   21163   \n",
       "0  [Без сетей, Локальная, Региональная, Интернаци...            5       0   \n",
       "0            [Other, Tier 4, Tier 3, Tier 2, Tier 5]            5       0   \n",
       "0  [Other, 69, 34, 84, 5, 12, 113, 80, 70, 11, 19...          208       0   \n",
       "0  [Traditional Independent Trade, Modern Grocery...            7      21   \n",
       "0  [BTC, Small minimarket 0-100m, Impulse (Kiosk)...           25      21   \n",
       "0           [TT, Other MT, TOP200, WHS, Не известно]            5       0   \n",
       "0  [C1, C0, B0, C3, C2, B2, A0, B1, B3, A1, A2, A...           14     481   \n",
       "0  [Cluster 2, Cluster 3, Cluster 1, !ERR, Cluste...            5      80   \n",
       "0  [10340352, 10407751, nan, 10399270, 10428588, ...           83       0   \n",
       "\n",
       "   pct_ERR  \n",
       "0      9.1  \n",
       "0      9.0  \n",
       "0      9.0  \n",
       "0      2.0  \n",
       "0      2.0  \n",
       "0      9.0  \n",
       "0      9.0  \n",
       "0      9.0  \n",
       "0      9.5  \n",
       "0      0.0  \n",
       "0      0.0  \n",
       "0      0.0  \n",
       "0      0.0  \n",
       "0      0.0  \n",
       "0      0.0  \n",
       "0      0.2  \n",
       "0      0.0  \n",
       "0      0.0  "
      ]
     },
     "execution_count": 21,
     "metadata": {},
     "output_type": "execute_result"
    }
   ],
   "source": [
    "df_cat = df.select_dtypes(include = 'object').copy()\n",
    "df_cat_stats = pd.DataFrame(columns = ['column', 'values', 'values_count', 'num_ERR', 'pct_ERR'])\n",
    "tmp = pd.DataFrame()\n",
    "\n",
    "for c in df_cat.columns:\n",
    "    tmp['column'] = [c]\n",
    "    tmp['values'] = [df_cat[c].unique()]\n",
    "    tmp['values_count'] = len(list(df_cat[c].unique()))\n",
    "    tmp['num_ERR'] = df_cat[c][df_cat[c]=='!ERR'].count()\n",
    "    tmp['pct_ERR'] = round(df_cat[c][df_cat[c]=='!ERR'].count() / df_cat[c].count() * 100, 1)\n",
    "    df_cat_stats = df_cat_stats.append(tmp)\n",
    "    \n",
    "df_cat_stats[['column', 'values', 'values_count', 'num_ERR', 'pct_ERR']]"
   ]
  },
  {
   "cell_type": "markdown",
   "metadata": {},
   "source": [
    "Изучение предметной области говорит о том, что иерархия сотрудников компании (FFDSL, TSE_MTDE) задается отдельно от иерархии дистрибьюторов (куда попадают также торговые агенты Level_Torg_). Это подтверждают близкие цифры количество значений !ERR (примерно 9% для иерархии дистрибьюторов и 2% для иерархии сотрудников). Давайте посмотрим соотношение значений !ERR по наличию или отсутствию кода доставки."
   ]
  },
  {
   "cell_type": "code",
   "execution_count": 22,
   "metadata": {},
   "outputs": [],
   "source": [
    "df['isTrain'] = ~ df['SHIP_TO_RSS'].isna()"
   ]
  },
  {
   "cell_type": "code",
   "execution_count": 23,
   "metadata": {},
   "outputs": [
    {
     "data": {
      "text/plain": [
       "<matplotlib.axes._subplots.AxesSubplot at 0x214c09c9e88>"
      ]
     },
     "execution_count": 23,
     "metadata": {},
     "output_type": "execute_result"
    },
    {
     "data": {
      "image/png": "[encoded data removed]",
      "text/plain": [
       "<Figure size 432x288 with 1 Axes>"
      ]
     },
     "metadata": {
      "needs_background": "light"
     },
     "output_type": "display_data"
    }
   ],
   "source": [
    "df.groupby(['isTrain', 'Region']).SWE_Store_Key.count().plot(kind='bar')"
   ]
  },
  {
   "cell_type": "markdown",
   "metadata": {},
   "source": [
    "Могут оказаться интересными следующие варианты отсутствующих значений. После обучения модели необходимо вернуться к анализу получившихся результатов и понять как влияет отсутствие иерархий на результат."
   ]
  },
  {
   "cell_type": "code",
   "execution_count": 24,
   "metadata": {},
   "outputs": [
    {
     "name": "stdout",
     "output_type": "stream",
     "text": [
      "Нет иерархии дистрибьюторов: 17374\n",
      "Нет иерархии сотрудников: 1802\n",
      "Нет обеих иерархий: 2697\n"
     ]
    }
   ],
   "source": [
    "print('Нет иерархии дистрибьюторов:',df[(df['Region']=='!ERR')&(df['FFDSL']!='!ERR')].shape[0])\n",
    "print('Нет иерархии сотрудников:',df[(df['Region']!='!ERR')&(df['FFDSL']=='!ERR')].shape[0])\n",
    "print('Нет обеих иерархий:',df[(df['Region']=='!ERR')&(df['FFDSL']=='!ERR')].shape[0])"
   ]
  },
  {
   "cell_type": "markdown",
   "metadata": {},
   "source": [
    "## Моделирование"
   ]
  },
  {
   "cell_type": "markdown",
   "metadata": {},
   "source": [
    "При подготовке данных был добавлен технический признак isTrain, который поможет отделить данные которые нужно предсказать, от данных для обучения (которые разделим на тренировочную и валидационную выборку в соотношении 70 на 30)."
   ]
  },
  {
   "cell_type": "code",
   "execution_count": 25,
   "metadata": {},
   "outputs": [],
   "source": [
    "df['From_Dc'] = df['From_Dc'].astype(int)\n",
    "df.set_index('SWE_Store_Key',inplace=True)\n",
    "df_init = df.copy()"
   ]
  },
  {
   "cell_type": "code",
   "execution_count": 26,
   "metadata": {},
   "outputs": [],
   "source": [
    "target = ['SHIP_TO_RSS']\n",
    "service = ['isTrain','isCoord']\n",
    "features = [column for column in df.columns if column not in target and column not in service]\n",
    "X = df[df['isTrain']==True][features]\n",
    "y = df[df['isTrain']==True][target]\n",
    "y['SHIP_TO_RSS'] = y['SHIP_TO_RSS'].astype(int)\n",
    "\n",
    "cat_features = X.select_dtypes(include=['object']).columns  # Categorical\n",
    "num_features = X.select_dtypes(exclude=['object']).columns  # Numeric\n",
    "\n",
    "for col in cat_features:\n",
    "    X[col]=X[col].astype(str)\n",
    "    \n",
    "X_train, X_valid, y_train, y_valid = train_test_split(X, y, test_size=0.3, random_state=42)"
   ]
  },
  {
   "cell_type": "markdown",
   "metadata": {},
   "source": [
    "Для обучения будем использовать подход с ковейером данных (pipeline). Во первых, конвейеры упрощают код, а во вторых выполняют работу в разреженных матрицах. Это очень важно, в нашем случае, с точки зрения ресурсов и производительности, когда имеется много категорийных данных, которые требуется кодировать в One Hot."
   ]
  },
  {
   "cell_type": "code",
   "execution_count": 27,
   "metadata": {},
   "outputs": [],
   "source": [
    "def model_fit(X_train, y_train, classifier):\n",
    "    cat_pipe = Pipeline([\n",
    "        ('imputer', SimpleImputer(strategy='constant', fill_value='missing')),\n",
    "        ('onehot', OneHotEncoder(handle_unknown='ignore'))\n",
    "    ])\n",
    "    num_pipe = Pipeline([\n",
    "        ('imputer', SimpleImputer(strategy='mean'))\n",
    "    ])\n",
    "\n",
    "    preprocessing = ColumnTransformer(\n",
    "        [('cat', cat_pipe, cat_features),\n",
    "         ('num', num_pipe, num_features)\n",
    "        ])\n",
    "\n",
    "    rf = Pipeline([\n",
    "        ('preprocess', preprocessing),\n",
    "        ('classifier', classifier)\n",
    "    ])\n",
    "\n",
    "    rf.fit(X_train, y_train.values.ravel())\n",
    "    return rf"
   ]
  },
  {
   "cell_type": "code",
   "execution_count": 28,
   "metadata": {},
   "outputs": [],
   "source": [
    "clf = RandomForestClassifier(n_estimators=10, random_state=42, n_jobs=-1)\n",
    "model = model_fit(X_train, y_train, clf)\n",
    "y_pred = model.predict(X_valid)"
   ]
  },
  {
   "cell_type": "markdown",
   "metadata": {},
   "source": [
    "### Выбор метрики"
   ]
  },
  {
   "cell_type": "markdown",
   "metadata": {},
   "source": [
    "Для мультиклассовой классификации, в условиях несбалансированной выборки, допустимо использовать несколько различных метрик https://scikit-learn.org/stable/modules/model_evaluation.html#classification-metrics. Для нашей задачи будем использовать метрику balanced_accuracy_score, которая определяется как средняя величина полноты (recall), полученная по каждому классу.\n",
    "\n",
    "В случае, если классификатор работает одинаково хорошо для всех классов, то эта метрика работает как обычная точность, то есть отношение правильных предсказаний к общему количеству предсказаний. Если же обычная точность выше вероятности только потому, что классификатор использует несбалансированный набор тестов, тогда сбалансированная точность, в зависимости от ситуации, снизится до 1/n_classes (https://scikit-learn.org/stable/modules/model_evaluation.html#balanced-accuracy-score)."
   ]
  },
  {
   "cell_type": "code",
   "execution_count": 29,
   "metadata": {},
   "outputs": [
    {
     "name": "stdout",
     "output_type": "stream",
     "text": [
      "balanced accuracy score: 0.936746548704415\n"
     ]
    },
    {
     "name": "stderr",
     "output_type": "stream",
     "text": [
      "C:\\Programs\\anaconda3\\envs\\Territory_App\\lib\\site-packages\\sklearn\\metrics\\_classification.py:1859: UserWarning: y_pred contains classes not in y_true\n",
      "  warnings.warn('y_pred contains classes not in y_true')\n"
     ]
    }
   ],
   "source": [
    "print('balanced accuracy score: {}'.format(balanced_accuracy_score(y_valid, y_pred)))"
   ]
  },
  {
   "cell_type": "markdown",
   "metadata": {},
   "source": [
    "Обратим внимание на предупреждение о том, что значения, которые нужно предсказать, отсутствуют в тестовой выборке. Поработам с этим, исключив девять кодов SHIP_TO_RSS, которые содержат до 15 сэмплов, а также включив стратификацию при разделении тренировочной выборки на тестовую и валидационную, при которой обеспечивается попадание значений y в тренировочную и валидационную выборки."
   ]
  },
  {
   "cell_type": "code",
   "execution_count": 30,
   "metadata": {},
   "outputs": [],
   "source": [
    "ships = list(ship_counts['SHIP_TO_RSS'][ship_counts['COUNTS']<15].values)\n",
    "\n",
    "target = ['SHIP_TO_RSS']\n",
    "service = ['isTrain','isCoord']\n",
    "features = [column for column in df.columns if column not in target and column not in service]\n",
    "X = df[(df['isTrain']==True)&(~df['SHIP_TO_RSS'].isin(ships))][features]\n",
    "y = df[(df['isTrain']==True)&(~df['SHIP_TO_RSS'].isin(ships))][target]\n",
    "y['SHIP_TO_RSS'] = y['SHIP_TO_RSS'].astype(int)\n",
    "\n",
    "cat_features = X.select_dtypes(include=['object']).columns  # Categorical\n",
    "num_features = X.select_dtypes(exclude=['object']).columns  # Numeric\n",
    "\n",
    "for col in cat_features:\n",
    "    X[col]=X[col].astype(str)\n",
    "    \n",
    "X_train, X_valid, y_train, y_valid = train_test_split(X, y, test_size=0.3, random_state=42, stratify=y)"
   ]
  },
  {
   "cell_type": "code",
   "execution_count": 46,
   "metadata": {},
   "outputs": [],
   "source": [
    "clf = RandomForestClassifier(n_estimators=10, random_state=42, n_jobs=-1)\n",
    "model = model_fit(X_train, y_train, clf)\n",
    "y_pred = model.predict(X_valid)"
   ]
  },
  {
   "cell_type": "code",
   "execution_count": 47,
   "metadata": {
    "scrolled": true
   },
   "outputs": [
    {
     "name": "stdout",
     "output_type": "stream",
     "text": [
      "balanced accuracy score: 0.976\n"
     ]
    }
   ],
   "source": [
    "print('balanced accuracy score: {:.3f}'.format(balanced_accuracy_score(y_valid, y_pred)))"
   ]
  },
  {
   "cell_type": "markdown",
   "metadata": {},
   "source": [
    "Воспользуемся особым приемом, чтобы получить из конвейера информацию об исходных признаках, о новых One-Hot признаках, о доле важности каждого One-Hot признака в финальное предсказание."
   ]
  },
  {
   "cell_type": "code",
   "execution_count": 48,
   "metadata": {},
   "outputs": [],
   "source": [
    "ohe = (model.named_steps['preprocess']\n",
    "       .named_transformers_['cat']\n",
    "       .named_steps['onehot'])\n",
    "cat_ohe_feature_names = ohe.get_feature_names(input_features=cat_features)\n",
    "\n",
    "feature_names = np.append(cat_ohe_feature_names, num_features)\n",
    "\n",
    "features_raw = []\n",
    "for fname, fval  in zip(cat_features,ohe.categories_):\n",
    "    features_raw = np.append(features_raw, [fname] * len(fval))\n",
    "features_raw = np.append(features_raw, num_features)    \n",
    "\n",
    "rfc = model.named_steps['classifier']\n",
    "\n",
    "fimp_pd = pd.DataFrame(\n",
    "    {\"Feature\":features_raw,\n",
    "     \"FeatureName\":feature_names,\n",
    "     \"Importance\":rfc.feature_importances_\n",
    "    }\n",
    ").sort_values([\"Importance\"], ascending=False)"
   ]
  },
  {
   "cell_type": "markdown",
   "metadata": {},
   "source": [
    "Интересный факт, что именно информация о иерархии доистрибьютора и иерархии сотрудников оказывают наибольшее влияение в итоговый результат предсказания. Координаты точки идут сразу после этих признаков."
   ]
  },
  {
   "cell_type": "code",
   "execution_count": 49,
   "metadata": {},
   "outputs": [
    {
     "data": {
      "text/plain": [
       "<matplotlib.axes._subplots.AxesSubplot at 0x214ce072d48>"
      ]
     },
     "execution_count": 49,
     "metadata": {},
     "output_type": "execute_result"
    },
    {
     "data": {
      "image/png": "[encoded data removed]",
      "text/plain": [
       "<Figure size 432x288 with 1 Axes>"
      ]
     },
     "metadata": {
      "needs_background": "light"
     },
     "output_type": "display_data"
    }
   ],
   "source": [
    "fimp_pd.groupby('Feature').Importance.sum().sort_values(ascending=False).plot(kind='bar')"
   ]
  },
  {
   "cell_type": "markdown",
   "metadata": {},
   "source": [
    "Поскольку важность иерархий высокая, то попробуем подтвердить предположение, что отсутствие иерархий серьезно влияет на количество ошибок. Для этого соберем набор данных с агрегированной информацией по каждому классу."
   ]
  },
  {
   "cell_type": "code",
   "execution_count": 50,
   "metadata": {},
   "outputs": [],
   "source": [
    "ship_to_prediction_result_df = pd.DataFrame()\n",
    "\n",
    "# Сколько всего записей в тестовом наборе данных\n",
    "test_data = X.copy()\n",
    "test_data['SHIP_TO_RSS'] = y['SHIP_TO_RSS']\n",
    "test_data.groupby('SHIP_TO_RSS').SHIP_TO_RSS.count()\n",
    "ship_to_prediction_result_df['SHIP_TO_RSS'] = test_data.groupby('SHIP_TO_RSS').SHIP_TO_RSS.count()\n",
    "ship_to_prediction_result_df.columns = ['test_samples_counts']"
   ]
  },
  {
   "cell_type": "code",
   "execution_count": 51,
   "metadata": {},
   "outputs": [],
   "source": [
    "# Подсчитаем сколько записей в тренировочном наборе\n",
    "train_data = X_train.copy()\n",
    "train_data['SHIP_TO_RSS'] = y_train['SHIP_TO_RSS']\n",
    "train_data_df = train_data.groupby('SHIP_TO_RSS').SHIP_TO_RSS.count().to_frame()\n",
    "train_data_df.columns = ['train_samples_counts']\n",
    "ship_to_prediction_result_df.loc[train_data_df.index,'train_samples_counts'] = \\\n",
    "    train_data_df['train_samples_counts']"
   ]
  },
  {
   "cell_type": "code",
   "execution_count": 52,
   "metadata": {},
   "outputs": [],
   "source": [
    "# Теперь сколько в проверочном\n",
    "valid_data = X_valid.copy()\n",
    "valid_data['SHIP_TO_RSS'] = y_valid['SHIP_TO_RSS']\n",
    "valid_data_df = valid_data.groupby('SHIP_TO_RSS').SHIP_TO_RSS.count().to_frame()\n",
    "valid_data_df.columns = ['valid_samples_counts']\n",
    "ship_to_prediction_result_df.loc[valid_data_df.index,'valid_samples_counts'] = \\\n",
    "    valid_data_df['valid_samples_counts']"
   ]
  },
  {
   "cell_type": "code",
   "execution_count": 53,
   "metadata": {},
   "outputs": [],
   "source": [
    "# Подсчитаем количество ошибочных предсказаний\n",
    "y_compare = y_valid.copy()\n",
    "y_compare['SHIP_TO_RSS_PRED'] = y_pred\n",
    "y_wrong_predicted = y_compare[y_compare['SHIP_TO_RSS']!=y_compare['SHIP_TO_RSS_PRED']].copy()\n",
    "y_wrong_predicted_df = y_wrong_predicted.groupby('SHIP_TO_RSS').SHIP_TO_RSS.count().to_frame()\n",
    "y_wrong_predicted_df.columns = ['wrong_predicted_counts']\n",
    "ship_to_prediction_result_df.loc[y_wrong_predicted_df.index,'wrong_predicted_counts'] = \\\n",
    "    y_wrong_predicted_df['wrong_predicted_counts']"
   ]
  },
  {
   "cell_type": "code",
   "execution_count": 54,
   "metadata": {},
   "outputs": [],
   "source": [
    "# Ошибка в процентах от количества записей в проверочном наборе данных\n",
    "ship_to_prediction_result_df['wrong_predicted_percentage'] = \\\n",
    "    ship_to_prediction_result_df['wrong_predicted_counts'] / \\\n",
    "    ship_to_prediction_result_df['valid_samples_counts'] * 100"
   ]
  },
  {
   "cell_type": "code",
   "execution_count": 55,
   "metadata": {},
   "outputs": [
    {
     "data": {
      "text/html": [
       "<div>\n",
       "<style scoped>\n",
       "    .dataframe tbody tr th:only-of-type {\n",
       "        vertical-align: middle;\n",
       "    }\n",
       "\n",
       "    .dataframe tbody tr th {\n",
       "        vertical-align: top;\n",
       "    }\n",
       "\n",
       "    .dataframe thead th {\n",
       "        text-align: right;\n",
       "    }\n",
       "</style>\n",
       "<table border=\"1\" class=\"dataframe\">\n",
       "  <thead>\n",
       "    <tr style=\"text-align: right;\">\n",
       "      <th></th>\n",
       "      <th>test_samples_counts</th>\n",
       "      <th>train_samples_counts</th>\n",
       "      <th>valid_samples_counts</th>\n",
       "      <th>wrong_predicted_counts</th>\n",
       "      <th>wrong_predicted_percentage</th>\n",
       "      <th>dist_hierarchy_exists_percentage</th>\n",
       "      <th>associates_hierarchy_exists_percentage</th>\n",
       "    </tr>\n",
       "    <tr>\n",
       "      <th>SHIP_TO_RSS</th>\n",
       "      <th></th>\n",
       "      <th></th>\n",
       "      <th></th>\n",
       "      <th></th>\n",
       "      <th></th>\n",
       "      <th></th>\n",
       "      <th></th>\n",
       "    </tr>\n",
       "  </thead>\n",
       "  <tbody>\n",
       "    <tr>\n",
       "      <th>10443031</th>\n",
       "      <td>19</td>\n",
       "      <td>13</td>\n",
       "      <td>6</td>\n",
       "      <td>5.0</td>\n",
       "      <td>83.333333</td>\n",
       "      <td>100.000000</td>\n",
       "      <td>100.000000</td>\n",
       "    </tr>\n",
       "    <tr>\n",
       "      <th>10441602</th>\n",
       "      <td>38</td>\n",
       "      <td>27</td>\n",
       "      <td>11</td>\n",
       "      <td>3.0</td>\n",
       "      <td>27.272727</td>\n",
       "      <td>52.631579</td>\n",
       "      <td>68.421053</td>\n",
       "    </tr>\n",
       "    <tr>\n",
       "      <th>10432783</th>\n",
       "      <td>1112</td>\n",
       "      <td>778</td>\n",
       "      <td>334</td>\n",
       "      <td>28.0</td>\n",
       "      <td>8.383234</td>\n",
       "      <td>96.762590</td>\n",
       "      <td>99.010791</td>\n",
       "    </tr>\n",
       "    <tr>\n",
       "      <th>10430024</th>\n",
       "      <td>6310</td>\n",
       "      <td>4417</td>\n",
       "      <td>1893</td>\n",
       "      <td>115.0</td>\n",
       "      <td>6.075013</td>\n",
       "      <td>88.399366</td>\n",
       "      <td>97.400951</td>\n",
       "    </tr>\n",
       "    <tr>\n",
       "      <th>10445784</th>\n",
       "      <td>620</td>\n",
       "      <td>434</td>\n",
       "      <td>186</td>\n",
       "      <td>11.0</td>\n",
       "      <td>5.913978</td>\n",
       "      <td>72.903226</td>\n",
       "      <td>99.354839</td>\n",
       "    </tr>\n",
       "    <tr>\n",
       "      <th>10398269</th>\n",
       "      <td>2093</td>\n",
       "      <td>1465</td>\n",
       "      <td>628</td>\n",
       "      <td>31.0</td>\n",
       "      <td>4.936306</td>\n",
       "      <td>92.881032</td>\n",
       "      <td>99.665552</td>\n",
       "    </tr>\n",
       "    <tr>\n",
       "      <th>10428588</th>\n",
       "      <td>8553</td>\n",
       "      <td>5987</td>\n",
       "      <td>2566</td>\n",
       "      <td>126.0</td>\n",
       "      <td>4.910366</td>\n",
       "      <td>91.815737</td>\n",
       "      <td>94.528236</td>\n",
       "    </tr>\n",
       "    <tr>\n",
       "      <th>10407810</th>\n",
       "      <td>6491</td>\n",
       "      <td>4544</td>\n",
       "      <td>1947</td>\n",
       "      <td>93.0</td>\n",
       "      <td>4.776579</td>\n",
       "      <td>63.842243</td>\n",
       "      <td>92.204591</td>\n",
       "    </tr>\n",
       "    <tr>\n",
       "      <th>10190426</th>\n",
       "      <td>470</td>\n",
       "      <td>329</td>\n",
       "      <td>141</td>\n",
       "      <td>4.0</td>\n",
       "      <td>2.836879</td>\n",
       "      <td>90.851064</td>\n",
       "      <td>99.787234</td>\n",
       "    </tr>\n",
       "    <tr>\n",
       "      <th>10433225</th>\n",
       "      <td>1446</td>\n",
       "      <td>1012</td>\n",
       "      <td>434</td>\n",
       "      <td>11.0</td>\n",
       "      <td>2.534562</td>\n",
       "      <td>99.031812</td>\n",
       "      <td>99.930844</td>\n",
       "    </tr>\n",
       "  </tbody>\n",
       "</table>\n",
       "</div>"
      ],
      "text/plain": [
       "             test_samples_counts  train_samples_counts  valid_samples_counts  \\\n",
       "SHIP_TO_RSS                                                                    \n",
       "10443031                      19                    13                     6   \n",
       "10441602                      38                    27                    11   \n",
       "10432783                    1112                   778                   334   \n",
       "10430024                    6310                  4417                  1893   \n",
       "10445784                     620                   434                   186   \n",
       "10398269                    2093                  1465                   628   \n",
       "10428588                    8553                  5987                  2566   \n",
       "10407810                    6491                  4544                  1947   \n",
       "10190426                     470                   329                   141   \n",
       "10433225                    1446                  1012                   434   \n",
       "\n",
       "             wrong_predicted_counts  wrong_predicted_percentage  \\\n",
       "SHIP_TO_RSS                                                       \n",
       "10443031                        5.0                   83.333333   \n",
       "10441602                        3.0                   27.272727   \n",
       "10432783                       28.0                    8.383234   \n",
       "10430024                      115.0                    6.075013   \n",
       "10445784                       11.0                    5.913978   \n",
       "10398269                       31.0                    4.936306   \n",
       "10428588                      126.0                    4.910366   \n",
       "10407810                       93.0                    4.776579   \n",
       "10190426                        4.0                    2.836879   \n",
       "10433225                       11.0                    2.534562   \n",
       "\n",
       "             dist_hierarchy_exists_percentage  \\\n",
       "SHIP_TO_RSS                                     \n",
       "10443031                           100.000000   \n",
       "10441602                            52.631579   \n",
       "10432783                            96.762590   \n",
       "10430024                            88.399366   \n",
       "10445784                            72.903226   \n",
       "10398269                            92.881032   \n",
       "10428588                            91.815737   \n",
       "10407810                            63.842243   \n",
       "10190426                            90.851064   \n",
       "10433225                            99.031812   \n",
       "\n",
       "             associates_hierarchy_exists_percentage  \n",
       "SHIP_TO_RSS                                          \n",
       "10443031                                 100.000000  \n",
       "10441602                                  68.421053  \n",
       "10432783                                  99.010791  \n",
       "10430024                                  97.400951  \n",
       "10445784                                  99.354839  \n",
       "10398269                                  99.665552  \n",
       "10428588                                  94.528236  \n",
       "10407810                                  92.204591  \n",
       "10190426                                  99.787234  \n",
       "10433225                                  99.930844  "
      ]
     },
     "execution_count": 55,
     "metadata": {},
     "output_type": "execute_result"
    }
   ],
   "source": [
    "# Посчитаем сколько всего записей с иерархиями дистрибьюторов и сотрудников\n",
    "test_data['dist_hierarchy_exists'] = test_data['Region'] != '!ERR'\n",
    "test_data['associates_hierarchy_exists'] = test_data['FFDSL'] != '!ERR'\n",
    "\n",
    "dist_hierarchy_exists_df = test_data[test_data['dist_hierarchy_exists']==True]. \\\n",
    "    groupby(['SHIP_TO_RSS','dist_hierarchy_exists']).dist_hierarchy_exists.count().to_frame()\n",
    "dist_hierarchy_exists_df.columns = ['dist_hierarchy_exists_counts']\n",
    "dist_hierarchy_exists_df.reset_index(inplace=True)\n",
    "dist_hierarchy_exists_df.set_index('SHIP_TO_RSS',inplace=True)\n",
    "dist_hierarchy_exists_df.drop('dist_hierarchy_exists',axis=1,inplace=True)\n",
    "\n",
    "associates_hierarchy_exists_df = test_data[test_data['associates_hierarchy_exists']==True]. \\\n",
    "    groupby(['SHIP_TO_RSS','associates_hierarchy_exists']).associates_hierarchy_exists.count().to_frame()\n",
    "associates_hierarchy_exists_df.columns = ['associates_hierarchy_exists_counts']\n",
    "associates_hierarchy_exists_df.reset_index(inplace=True)\n",
    "associates_hierarchy_exists_df.set_index('SHIP_TO_RSS',inplace=True)\n",
    "associates_hierarchy_exists_df.drop('associates_hierarchy_exists',axis=1,inplace=True)\n",
    "\n",
    "ship_to_prediction_result_df.loc[dist_hierarchy_exists_df.index,'dist_hierarchy_exists_counts'] = \\\n",
    "    dist_hierarchy_exists_df['dist_hierarchy_exists_counts']\n",
    "ship_to_prediction_result_df.loc[associates_hierarchy_exists_df.index,'associates_hierarchy_exists_counts'] = \\\n",
    "    associates_hierarchy_exists_df['associates_hierarchy_exists_counts']\n",
    "\n",
    "ship_to_prediction_result_df['dist_hierarchy_exists_percentage'] = \\\n",
    "    ship_to_prediction_result_df['dist_hierarchy_exists_counts'] / \\\n",
    "    ship_to_prediction_result_df['test_samples_counts'] * 100\n",
    "\n",
    "ship_to_prediction_result_df['associates_hierarchy_exists_percentage'] = \\\n",
    "    ship_to_prediction_result_df['associates_hierarchy_exists_counts'] / \\\n",
    "    ship_to_prediction_result_df['test_samples_counts'] * 100\n",
    "\n",
    "fields_to_output = ['test_samples_counts','train_samples_counts','valid_samples_counts',\n",
    "                    'wrong_predicted_counts','wrong_predicted_percentage',\n",
    "                    'dist_hierarchy_exists_percentage','associates_hierarchy_exists_percentage']\n",
    "ship_to_prediction_result_df.sort_values('wrong_predicted_percentage',ascending=False)[fields_to_output][:10]"
   ]
  },
  {
   "cell_type": "markdown",
   "metadata": {},
   "source": [
    "## Выводы"
   ]
  },
  {
   "cell_type": "markdown",
   "metadata": {},
   "source": [
    "В процессе выполнения работы входные данные были проанализированы и очищены. Для ответа на некоторые вопросы, привлекался человек из бизнеса со знанием предметной области. Выдвинуто предположение о важности координат для точек, поэтому был разработан алгоритм восстановления координат для 10% точек. Кроме того было обнаружено, что для 9% точек отсутствует иерархия дистрибьюторов, а для 2% точек нет иерархии сотрудников. Возникло опасение, что это повлияет на точность предсказания.\n",
    "\n",
    "Полученный набор данных является несбалансированным, поэтому для оценки модели была использована метрика balanced accuracy score, которая учитывает несбалансированность классов. В процессе моделирования было достигнуто значение метрики больше 0.97, при этом одинаково хорошая оценка достигалась при использовании разных классификаторов, например, Logistic Regression. Было решено остановиться на алгоритме  Random Forest Classifier, который показал максимальное значение.\n",
    "\n",
    "Анализ важности признаков показал, что вклад признаков, которые относятся к иерархиям дистрибьюторов и сотрудников, выше, чем координат торговых точек. При этом не подтверждено существенное влияние отсутствия иерархий  на правильность ответа. С другой стороны мы убедились, что малое значение (до 40) записей в классе, приводит к низкой точности предсказания. Из-за этого последовала рекомендация предупреждать пользователя о наличии таких классов, но не предстказывать их.   "
   ]
  }
 ],
 "metadata": {
  "kernelspec": {
   "display_name": "Python 3",
   "language": "python",
   "name": "python3"
  },
  "language_info": {
   "codemirror_mode": {
    "name": "ipython",
    "version": 3
   },
   "file_extension": ".py",
   "mimetype": "text/x-python",
   "name": "python",
   "nbconvert_exporter": "python",
   "pygments_lexer": "ipython3",
   "version": "3.7.6"
  }
 },
 "nbformat": 4,
 "nbformat_minor": 4
}
